{
 "cells": [
  {
   "cell_type": "markdown",
   "metadata": {},
   "source": [
    "# Probabilistic Matrix Factorization"
   ]
  },
  {
   "cell_type": "markdown",
   "metadata": {},
   "source": [
    "[\"about article of PMF - by Ruslan and Andriy\"](https://papers.nips.cc/paper/2007/file/d7322ed717dedf1eb4e6e52a37ea7bcd-Paper.pdf)"
   ]
  },
  {
   "cell_type": "code",
   "execution_count": 30,
   "metadata": {},
   "outputs": [],
   "source": [
    "import numpy as np\n",
    "import pandas as pd\n",
    "import math\n",
    "import matplotlib.pyplot as plt"
   ]
  },
  {
   "cell_type": "code",
   "execution_count": 31,
   "metadata": {},
   "outputs": [],
   "source": [
    "\"setting parameters\"\n",
    "dimension = 10\n",
    "stdv = 0.01\n",
    "stdv_U = 0.1\n",
    "stdv_V = 0.1\n",
    "learning_rate = 0.005\n",
    "momentum = 0.5\n",
    "parameters = {}\n",
    "epoch = 100\n",
    "\n",
    "# parameters['moment_U'] = moment_U\n",
    "# parameters['moment_V'] = moment_V"
   ]
  },
  {
   "cell_type": "markdown",
   "metadata": {},
   "source": [
    "### import_data\n",
    "The code \"import_data\" loads the data set about Items following the \"path\". The data set is recorded on users, items, ratings, etc.<br>\n",
    "Among these data, this code extracts data about users, items and ratings.<br>\n",
    "$----------$<br>\n",
    "Return\n",
    "\n",
    "data_sort : which remove and sort in order of users from data about users, items and ratings<br>\n",
    "n_User and n_Item : the number of Users (or Items)"
   ]
  },
  {
   "cell_type": "code",
   "execution_count": 32,
   "metadata": {},
   "outputs": [],
   "source": [
    "def import_data(path):\n",
    "    data = pd.read_csv(path, sep='\\t', names=['User', 'Item', 'Rating', 'Timestamp'], header=None)\n",
    "    data = data.drop('Timestamp', axis=1)\n",
    "    \n",
    "    data_pure = data.drop_duplicates(['User','Item'], keep = 'last')\n",
    "    \n",
    "    data_sort = data_pure.sort_values(['User', 'Item', 'Rating'])\n",
    "    \n",
    "    n_User = len(data_sort.User.unique())\n",
    "    n_Item = len(data_sort.Item.unique())\n",
    "    \n",
    "    return data_sort, n_User, n_Item"
   ]
  },
  {
   "cell_type": "markdown",
   "metadata": {},
   "source": [
    "### make_R\n",
    "The code \"make_R\" makes a matrix about ratings of data.<br>\n",
    "N : users, M : items (in this code - movies)<br>\n",
    "$----------$<br>\n",
    "Return\n",
    "\n",
    "R : the preference matrix $N \\times M$"
   ]
  },
  {
   "cell_type": "code",
   "execution_count": 33,
   "metadata": {},
   "outputs": [],
   "source": [
    "def make_R(data):\n",
    "    R = data.pivot(index ='User', columns = 'Item', values = 'Rating')\n",
    "    R.fillna(0, inplace = True)\n",
    "    R = R.values\n",
    "    return R"
   ]
  },
  {
   "cell_type": "markdown",
   "metadata": {},
   "source": [
    "### make_U_V\n",
    "The code \"make_U_V\" makes matrices U and V.<br>\n",
    "\n",
    "U is $D \\times N$ , and its transpose is user coefficient matrix<br>\n",
    "V is $D \\times M$ , factor matrix\n",
    "\n",
    "also,<br>\n",
    "$P(U\\mid\\sigma_U^2) = \\prod_{i=1}^N \\mathcal{N}(U_i\\mid0,\\sigma_U^{2}\\mathbf{I})$<br>\n",
    "$P(V\\mid\\sigma_V^2) = \\prod_{i=1}^M \\mathcal{N}(V_i\\mid0,\\sigma_V^{2}\\mathbf{I})$\n",
    "\n",
    "and saves them in dictionary (named \"parameters\")<br>\n",
    "$----------$<br>\n",
    "Return\n",
    "\n",
    "parameters"
   ]
  },
  {
   "cell_type": "code",
   "execution_count": 34,
   "metadata": {},
   "outputs": [],
   "source": [
    "def make_U_V(n_User, n_Item, stdv_U, stdv_V, dimension, parameters):\n",
    "    U = stdv_U*np.random.randn(dimension, n_User)\n",
    "    V = stdv_V*np.random.randn(dimension, n_Item)\n",
    "    parameters['U'] = U\n",
    "    parameters['V'] = V\n",
    "    return parameters"
   ]
  },
  {
   "cell_type": "markdown",
   "metadata": {},
   "source": [
    "### RMSE_calculation\n",
    "The code \"RMSE_calculation\" calculates the root mean square error between two data sets.<br>\n",
    "Denotes original_data is R and predict_data is R* then,<br>\n",
    "\n",
    "$RMSE = \\sqrt{\\frac{\\sum_{i=1}^N\\sum_{j=1}^M\\mathrm{I_{i,j}}(R_{i,j} - R*_{i,j})^2}{\\sum_{i=1}^N\\sum_{j=1}^M\\mathrm{I_{i,j}}}}$<br>\n",
    "$----------$<br>\n",
    "Return<br>\n",
    "\n",
    "np.sqrt(mse) : RMSE"
   ]
  },
  {
   "cell_type": "code",
   "execution_count": 35,
   "metadata": {},
   "outputs": [],
   "source": [
    "def RMSE_calculation(original_data, predict_data):\n",
    "    xi, yi = original_data.nonzero()\n",
    "    error = 0\n",
    "    count = 0\n",
    "    for x, y in zip(xi,yi):\n",
    "        error += pow(original_data[x,y]-predict_data[x,y], 2)\n",
    "        count+=1\n",
    "    mse = error/count\n",
    "    return np.sqrt(mse)"
   ]
  },
  {
   "cell_type": "markdown",
   "metadata": {},
   "source": [
    "### gradient\n",
    "The code \"gradient\" gives a feedback to matrix U and V by using \"gradient descent\" method.<br>\n",
    "Finding values of U and V which maximize the log posterior over items and user features is equivalent to minimizing \"sum of squared errors\". (denoted \"E\")<br>\n",
    "So,by \"gradient descent\" on \"E\" with learning rate and momentum to find those values.<br>\n",
    "\n",
    "log-posterior :<br>$\\ln p(U,V \\mid R,\\sigma^2,\\sigma_V^2,\\sigma_U^2) = -\\frac{1}{2\\sigma^2}\\sum_{i=1}^N\\sum_{j=1}^M\\mathrm{I_{i,j}}(R_{i,j}-{U_{i}^T}V_j)^2 -\\frac{1}{2\\sigma_U^2}{\\sum_{i=1}^N}{U_{i}^T}U_i -\\frac{1}{2\\sigma_V^2}{\\sum_{j=1}^M}{V_{j}^T}V_j -\\frac{1}{2}((\\sum_{i=1}^N\\sum_{j=1}^M\\mathrm{I_{i,j}})\\ln\\sigma^2 +\\mathrm{ND}\\ln\\sigma_U^2 + \\mathrm{MD}\\ln\\sigma_V^2) + \\mathrm{C}$<br>\n",
    "\n",
    "sum of squared errors :<br>\n",
    "$E = \\frac{1}{2}\\sum_{i=1}^N\\sum_{j=1}^M\\mathrm{I_{i,j}}(R_{i,j}-{U_{i}^T}V_j)^2 + \\frac{\\lambda_U}{2}\\sum_{i=1}^N\\| U_i \\|_{Fro}^2 +\\frac{\\lambda_V}{2}\\sum_{j=1}^M\\| V_j \\|_{Fro}^2$<br>\n",
    "$----------$<br>\n",
    "Return<br>\n",
    "\n",
    "parameters : including the updated U and V"
   ]
  },
  {
   "cell_type": "code",
   "execution_count": 1,
   "metadata": {},
   "outputs": [],
   "source": [
    "def gradient(parameters, i, j, R, stdv, stdv_U, stdv_V, learning_rate, moment_U, moment_V):\n",
    "    U = parameters['U']\n",
    "    V = parameters['V']\n",
    "    \n",
    "    UV_mean = np.dot(np.array([U[:,i]]), np.array([V[:,j]]).T)\n",
    "    difference = R[i,j] - UV_mean\n",
    "    lambda_U = (stdv/stdv_U)**2\n",
    "    lambda_V = (stdv/stdv_V)**2\n",
    "    copy_U = U.copy()\n",
    "    \n",
    "    learning_U = (learning_rate*(difference[0,0]*V[:,j] - lambda_U*np.abs(U[:,i])))\n",
    "    learning_V = (learning_rate*(difference[0,0]*copy_U[:,i] - lambda_V*np.abs(V[:,j])))\n",
    "    \n",
    "    U_learn = np.mean(learning_U)\n",
    "    V_learn = np.mean(learning_V)\n",
    "    if not (U_learn>0):\n",
    "        moment_U[i,j]=0.0\n",
    "    if not (V_learn>0):\n",
    "        moment_V[i,j] = 0.0\n",
    "    moment_U[i,j] = momentum*moment_U[i,j] + U_learn\n",
    "    moment_V[i,j] = momentum*moment_V[i,j] + V_learn\n",
    "    \n",
    "    U[:,i] += moment_U[i,j]\n",
    "    V[:,j] += moment_V[i,j]\n",
    "\n",
    "    parameters['U'] = U\n",
    "    parameters['V'] = V\n",
    "\n",
    "    return parameters"
   ]
  },
  {
   "cell_type": "markdown",
   "metadata": {},
   "source": [
    "### train_and_test\n",
    "The code \"train_and_test\" updates U and V using \"gradient\" function for all User and Item features which are rated.<br>\n",
    "\n",
    "And makes approximation matrix $\\hat{R} = {U^T}V$ which follows<br>\n",
    "$p(R \\mid U,V,\\sigma^2) = \\prod_{i=1}^N\\prod_{j=1}^M[\\mathcal{N}(R_{i,j} \\mid {U_{i}^T}V_j,\\sigma^2)]^{\\mathrm{I_{i,j}}}$<br>\n",
    "\n",
    "Finally, compute RMSE of R and $\\hat{R}$ using \"RMSE_calculation\" function.<br>\n",
    "$----------$<br>\n",
    "Return<br>\n",
    "\n",
    "costs : RMSE of train data sets<br>\n",
    "test_costs : RMSE of test data sets<br>\n",
    "parameters : the dictionary named \"parameters\""
   ]
  },
  {
   "cell_type": "code",
   "execution_count": 37,
   "metadata": {},
   "outputs": [],
   "source": [
    "def train_and_test(parameters, epoch, n_User, n_Item, R, R_test):\n",
    "    costs=[]\n",
    "    test_costs = []\n",
    "    for i in range(epoch):\n",
    "        for j in range(n_User):\n",
    "            for k in range(n_Item):\n",
    "                if R[j,k]>0:\n",
    "                    gradient(parameters, j, k, R, stdv, stdv_U, stdv_V, learning_rate, moment_U, moment_V)\n",
    "        U = parameters['U']\n",
    "        V = parameters['V']\n",
    "        R_predict_mean = np.dot(U.T,V)\n",
    "        R_predict = np.random.normal(R_predict_mean, stdv)\n",
    "\n",
    "        cost = RMSE_calculation(R, R_predict)\n",
    "        cost_test = RMSE_calculation(R_test, R_predict)\n",
    "        costs.append(cost)\n",
    "        test_costs.append(cost_test)\n",
    "        if (i%10 == 0):\n",
    "            print(\"epoch: %d ... RMSE: %f ... test_RMSE: %f\" %(i, cost, cost_test))\n",
    "    return costs, test_costs, parameters"
   ]
  },
  {
   "cell_type": "markdown",
   "metadata": {},
   "source": [
    "### Code Execution\n",
    "Prints the results of train data sets and test data sets.<br>\n",
    "Then, plots of each RMSE of train and test sets.<br>\n",
    "Finally, prints out the matrix U and V forming approximation matrix $\\hat{R}$."
   ]
  },
  {
   "cell_type": "code",
   "execution_count": 38,
   "metadata": {
    "scrolled": true
   },
   "outputs": [
    {
     "name": "stdout",
     "output_type": "stream",
     "text": [
      "epoch: 0 ... RMSE: 3.687756 ... test_RMSE: 3.716999\n",
      "epoch: 10 ... RMSE: 0.971339 ... test_RMSE: 1.139582\n",
      "epoch: 20 ... RMSE: 0.957613 ... test_RMSE: 1.112483\n",
      "epoch: 30 ... RMSE: 0.954191 ... test_RMSE: 1.106275\n",
      "epoch: 40 ... RMSE: 0.952757 ... test_RMSE: 1.103928\n",
      "epoch: 50 ... RMSE: 0.951966 ... test_RMSE: 1.102795\n",
      "epoch: 60 ... RMSE: 0.951520 ... test_RMSE: 1.102378\n",
      "epoch: 70 ... RMSE: 0.951300 ... test_RMSE: 1.102114\n",
      "epoch: 80 ... RMSE: 0.950987 ... test_RMSE: 1.101766\n",
      "epoch: 90 ... RMSE: 0.950920 ... test_RMSE: 1.101647\n"
     ]
    },
    {
     "data": {
      "image/png": "[encoded data removed]",
      "text/plain": [
       "<Figure size 432x288 with 1 Axes>"
      ]
     },
     "metadata": {
      "needs_background": "light"
     },
     "output_type": "display_data"
    },
    {
     "name": "stdout",
     "output_type": "stream",
     "text": [
      "----------\n",
      "[[0.65444709 0.54165984 0.62177568 ... 0.80745093 0.76629681 0.61099279]\n",
      " [0.61895604 0.837638   0.63316456 ... 0.56759739 0.58746515 0.71654065]\n",
      " [0.68120123 0.63570479 0.67008806 ... 0.65511438 0.68567089 0.48637497]\n",
      " ...\n",
      " [0.59425411 0.69840647 0.55658057 ... 0.72729759 0.72607454 0.69271271]\n",
      " [0.52930018 0.67642467 0.58070979 ... 0.7325426  0.70854044 0.68239102]\n",
      " [0.67690536 0.57069418 0.48992364 ... 0.62551137 0.54157237 0.58921045]]\n",
      "----------\n",
      "[[0.51606755 0.59119588 0.55325994 ... 0.2023237  0.54878367 0.48830432]\n",
      " [0.77358359 0.43134845 0.55234047 ... 0.40636664 0.64544949 0.39921125]\n",
      " [0.58839211 0.70574575 0.59518904 ... 0.39947845 0.81878338 0.4943232 ]\n",
      " ...\n",
      " [0.55136493 0.68123125 0.52548661 ... 0.14804481 0.49042246 0.44166455]\n",
      " [0.44335004 0.58108389 0.54814803 ... 0.26410434 0.6109842  0.61995511]\n",
      " [0.73446206 0.57349849 0.51946379 ... 0.32154171 0.49174606 0.47619723]]\n"
     ]
    }
   ],
   "source": [
    "data_sort, n_User, n_Item = import_data(\"../ml-100k/u1.base\")\n",
    "test_data_sort, test_n_User, test_n_Item = import_data(\"../ml-100k/u1.test\")\n",
    "R = make_R(data_sort)\n",
    "R_test = make_R(test_data_sort)\n",
    "\n",
    "moment_U = np.zeros(R.shape)\n",
    "moment_V = np.zeros(R.shape)\n",
    "\n",
    "make_U_V(n_User, n_Item, stdv_U, stdv_V, dimension, parameters)\n",
    "\n",
    "costs, test_costs, parameters = train_and_test(parameters, epoch, n_User, n_Item, R, R_test)\n",
    "\n",
    "plt.ylim([0.90,1.5])\n",
    "plt.plot(costs, 'b', label='Train')\n",
    "plt.plot(test_costs, 'r', label='Test')\n",
    "plt.xlabel('epoch')\n",
    "plt.ylabel('RMSE')\n",
    "plt.title('PMF')\n",
    "plt.minorticks_on()\n",
    "plt.grid(b=True, which = 'major', color = '#666666', linestyle = '-', alpha = 0.2)\n",
    "plt.legend()\n",
    "\n",
    "plt.show()\n",
    "print('----------')\n",
    "print(parameters['U'])\n",
    "print('----------')\n",
    "print(parameters['V'])"
   ]
  }
 ],
 "metadata": {
  "kernelspec": {
   "display_name": "Python 3",
   "language": "python",
   "name": "python3"
  },
  "language_info": {
   "codemirror_mode": {
    "name": "ipython",
    "version": 3
   },
   "file_extension": ".py",
   "mimetype": "text/x-python",
   "name": "python",
   "nbconvert_exporter": "python",
   "pygments_lexer": "ipython3",
   "version": "3.7.4"
  }
 },
 "nbformat": 4,
 "nbformat_minor": 2
}
