{
 "cells": [
  {
   "cell_type": "markdown",
   "metadata": {},
   "source": [
    "# Constrained Probabilistic Matrix Factorization"
   ]
  },
  {
   "cell_type": "markdown",
   "metadata": {},
   "source": [
    "[\"about article of PMF - by Ruslan and Andriy\"](https://papers.nips.cc/paper/2007/file/d7322ed717dedf1eb4e6e52a37ea7bcd-Paper.pdf)"
   ]
  },
  {
   "cell_type": "code",
   "execution_count": 56,
   "metadata": {},
   "outputs": [],
   "source": [
    "import numpy as np\n",
    "import pandas as pd\n",
    "import math\n",
    "import matplotlib.pyplot as plt"
   ]
  },
  {
   "cell_type": "code",
   "execution_count": 57,
   "metadata": {},
   "outputs": [],
   "source": [
    "\"setting parameters\"\n",
    "dimension = 10\n",
    "stdv = 0.01\n",
    "stdv_Y = 0.1\n",
    "stdv_V = 0.1\n",
    "stdv_W = 0.1\n",
    "learning_rate = 0.002\n",
    "momentum = 0.5\n",
    "parameters = {}\n",
    "epoch = 60"
   ]
  },
  {
   "cell_type": "markdown",
   "metadata": {},
   "source": [
    "### Import_data\n",
    "The code \"import_data\" loads the data set about Items following the \"path\". The data set is recorded on users, items, ratings, etc.<br>\n",
    "Among these data, this code extracts data about users, items and ratings.<br>\n",
    "−−−−−−−−−− <br>\n",
    "Return<br>\n",
    "\n",
    "data_sort : which remove and sort in order of users from data about users, items and ratings<br>\n",
    "n_User and n_Item : the number of Users (or Items)"
   ]
  },
  {
   "cell_type": "code",
   "execution_count": 58,
   "metadata": {},
   "outputs": [],
   "source": [
    "def import_data(path):\n",
    "    data = pd.read_csv(path, sep='\\t', names=['User', 'Item', 'Rating', 'Timestamp'], header=None)\n",
    "    data = data.drop('Timestamp', axis=1)\n",
    "    \n",
    "    data_pure = data.drop_duplicates(['User','Item'], keep = 'last')\n",
    "    \n",
    "    data_sort = data_pure.sort_values(['User', 'Item', 'Rating'])\n",
    "    \n",
    "    n_User = len(data_sort.User.unique())\n",
    "    n_Item = len(data_sort.Item.unique())\n",
    "    \n",
    "    return data_sort, n_User, n_Item"
   ]
  },
  {
   "cell_type": "markdown",
   "metadata": {},
   "source": [
    "### make_R\n",
    "The code \"make_R\" makes a matrix about ratings of data.<br>\n",
    "N : users, M : items (in this code - movies)<br>\n",
    "$----------$<br>\n",
    "Return\n",
    "\n",
    "R : the preference matrix $N \\times M$"
   ]
  },
  {
   "cell_type": "code",
   "execution_count": 59,
   "metadata": {},
   "outputs": [],
   "source": [
    "def make_R(data):\n",
    "    R = data.pivot(index ='User', columns = 'Item', values = 'Rating')\n",
    "    R.fillna(0, inplace = True)\n",
    "    R = R.values\n",
    "    return R"
   ]
  },
  {
   "cell_type": "markdown",
   "metadata": {},
   "source": [
    "### make_U_V\n",
    "The code \"make_U_V\" makes matrices U and V.<br>\n",
    "\n",
    "U is $D \\times N$ , and its transpose is user coefficient matrix<br>\n",
    "V is $D \\times M$ , factor matrix<br>\n",
    "W is $D \\times M$ , captures the effect of a user having rated a particular item on the user's feature vector<br>\n",
    "\n",
    "also,<br>\n",
    "$P(Y\\mid\\sigma_Y^2) = \\prod_{i=1}^N \\mathcal{N}(Y_i\\mid0,\\sigma_Y^{2}\\mathbf{I})$<br>\n",
    "$P(V\\mid\\sigma_V^2) = \\prod_{i=1}^M \\mathcal{N}(V_i\\mid0,\\sigma_V^{2}\\mathbf{I})$<br>\n",
    "$P(W\\mid\\sigma_W^2) = \\prod_{i=1}^M \\mathcal{N}(W_i\\mid0,\\sigma_W^{2}\\mathbf{I})$<br>\n",
    "\n",
    "and saves them in dictionary (named \"parameters\")<br>\n",
    "$----------$<br>\n",
    "Return\n",
    "\n",
    "parameters"
   ]
  },
  {
   "cell_type": "code",
   "execution_count": 60,
   "metadata": {},
   "outputs": [],
   "source": [
    "def make_Y_V_W(n_User, n_Item, stdv_Y, stdv_V, stdv_W, dimension, parameters):\n",
    "    Y = stdv_Y*np.random.randn(dimension, n_User)\n",
    "    V = stdv_V*np.random.randn(dimension, n_Item)\n",
    "    W = stdv_W*np.random.randn(dimension, n_Item)\n",
    "    parameters['Y'] = Y\n",
    "    parameters['V'] = V\n",
    "    parameters['W'] = W\n",
    "    return parameters"
   ]
  },
  {
   "cell_type": "markdown",
   "metadata": {},
   "source": [
    "### RMSE_calculation\n",
    "The code \"RMSE_calculation\" calculates the root mean square error between two data sets.<br>\n",
    "Denotes original_data is R and predict_data is R* then,<br>\n",
    "\n",
    "$RMSE = \\sqrt{\\frac{\\sum_{i=1}^N\\sum_{j=1}^M\\mathrm{I_{i,j}}(R_{i,j} - R*_{i,j})^2}{\\sum_{i=1}^N\\sum_{j=1}^M\\mathrm{I_{i,j}}}}$<br>\n",
    "$----------$<br>\n",
    "Return<br>\n",
    "\n",
    "np.sqrt(mse) : RMSE"
   ]
  },
  {
   "cell_type": "code",
   "execution_count": 61,
   "metadata": {},
   "outputs": [],
   "source": [
    "def RMSE_calculation(original_data, predict_data):\n",
    "    \n",
    "    xi, yi = original_data.nonzero()\n",
    "    error = 0\n",
    "    count = 0\n",
    "    for x, y in zip(xi,yi):\n",
    "        error += pow(original_data[x,y]-predict_data[x,y], 2)\n",
    "        count+=1\n",
    "    mse = error/count\n",
    "    return np.sqrt(mse)"
   ]
  },
  {
   "cell_type": "markdown",
   "metadata": {},
   "source": [
    "### make_sum_W\n",
    "The code \"make_sum_W\" calculates the sum of $W_{k}$ <br>\n",
    "\n",
    "$----------$<br>\n",
    "Return<br>\n",
    "\n",
    "sum_w = $\\sum_{k=1}^M\\mathrm{I_{i,k}W_k}$<br>\n",
    "count_W = $\\sum_{k=1}^M\\mathrm{I_{i,k}}$<br>\n",
    "sum_W/count_W\n",
    "wj = $\\mathrm{I_i}$"
   ]
  },
  {
   "cell_type": "code",
   "execution_count": 62,
   "metadata": {},
   "outputs": [],
   "source": [
    "def make_sum_W(parameters, R, i, dimension):\n",
    "    W = parameters['W']\n",
    "    wj = R[i,:].nonzero()\n",
    "#     print(W.shape)\n",
    "#     print(wj[0])\n",
    "    sum_W = np.zeros((dimension,1))\n",
    "    count_W = 0\n",
    "    for k in wj[0]:\n",
    "\n",
    "        sum_W[:,0] += W[:,k]\n",
    "        count_W +=1\n",
    "    return sum_W, count_W, sum_W/count_W, wj"
   ]
  },
  {
   "cell_type": "markdown",
   "metadata": {},
   "source": [
    "### gradient\n",
    "The code \"gradient\" gives a feedback to matrix Y , Vand W by using \"gradient descent\" method.<br>\n",
    "Finding values of Y, V and W which maximize the log posterior over items and user features is equivalent to minimizing \"sum of squared errors\". (denoted \"E\")<br>\n",
    "So,by \"gradient descent\" on \"E\" with learning rate and momentum to find those values.<br>\n",
    "$----------$<br>\n",
    "Return<br>\n",
    "\n",
    "parameters : including the updated Y, V and W"
   ]
  },
  {
   "cell_type": "code",
   "execution_count": 63,
   "metadata": {},
   "outputs": [],
   "source": [
    "def gradient(parameters, i, j, R, stdv, stdv_Y, stdv_V, stdv_W,learning_rate, moment_Y, moment_V, moment_W, I):\n",
    "    Y = parameters['Y']\n",
    "    V = parameters['V']\n",
    "    W = parameters['W']\n",
    "    \n",
    "    sum_W, count_W, cal_sum_W, wj = make_sum_W(parameters, R, i, dimension)\n",
    "\n",
    "    YV_mean = np.dot(np.array([Y[:,i]])+cal_sum_W.T, np.array([V[:,j]]).T)\n",
    "\n",
    "    difference = R[i,j] - YV_mean[0,0]\n",
    "    lambda_Y = (stdv/stdv_Y)**2\n",
    "    lambda_V = (stdv/stdv_V)**2\n",
    "    lambda_W = (stdv/stdv_W)**2\n",
    "    copy_Y = Y.copy()\n",
    "    copy_V = V.copy()\n",
    "    \n",
    "    learning_Y = (learning_rate*(difference*V[:,j] - lambda_Y*np.abs(Y[:,i])))\n",
    "    learning_V = (learning_rate*(difference*(copy_Y[:,i] + cal_sum_W[:,0]) - lambda_V*np.abs(V[:,j])))\n",
    "    \n",
    "    learning_W_1 = (learning_rate*(difference*np.outer(I[:,i],V[:,j])/count_W))\n",
    "    learning_W_2 = -learning_rate*lambda_W*np.abs(W[:,j])\n",
    "    \n",
    "    learning_W = learning_W_1 + learning_W_2\n",
    "    \n",
    "    Y[:,i] += learning_Y\n",
    "    V[:,j] += learning_V\n",
    "    W += np.mean(learning_W_1)\n",
    "    W[:,j] += learning_W_2\n",
    "\n",
    "    parameters['Y'] = Y\n",
    "    parameters['V'] = V\n",
    "    parameters['W'] = W\n",
    "\n",
    "    return parameters"
   ]
  },
  {
   "cell_type": "markdown",
   "metadata": {},
   "source": [
    "### make_U\n",
    "The code \"make_U\" makes matrix U $D \\times N$,<br>\n",
    "which $\\mathrm{U_i} = \\mathrm{Y_i} + \\frac{\\sum_{k=1}^M\\mathrm{I_{i,k}W_k}}{\\sum_{k=1}^M\\mathrm{I_{i,k}}}$<br>\n",
    "$----------$<br>\n",
    "Return<br>\n",
    "\n",
    "$\\mathrm{U}$"
   ]
  },
  {
   "cell_type": "code",
   "execution_count": 64,
   "metadata": {},
   "outputs": [],
   "source": [
    "def make_U(parameters, R, n_User, dimension):\n",
    "    Y = parameters['Y']\n",
    "    W = parameters['W']\n",
    "    U = np.zeros(Y.shape)\n",
    "    for i in range(n_User):\n",
    "        sum_W, count_W, cal_W, wj = make_sum_W(parameters, R, i, dimension)\n",
    "        U[:,i] = Y[:,i] + cal_W[:,0]\n",
    "    return U"
   ]
  },
  {
   "cell_type": "markdown",
   "metadata": {},
   "source": [
    "### train_and_test\n",
    "The code \"train_and_test\" updates Y, V and W using \"gradient\" function for all User and Item features which are rated.<br>\n",
    "\n",
    "And makes approximation matrix $\\hat{R} = {U^T}V$ which $\\mathrm{U}$ is the results of \"make_U\" function.<br>\n",
    "Also, $\\hat{R}$ follows the normal distribution of mean $= {U^T}V$ and standard deviation $= \\sigma^2$<br>\n",
    "\n",
    "Finally, compute RMSE of R and $\\hat{R}$ using \"RMSE_calculation\" function.<br>\n",
    "$----------$<br>\n",
    "Return<br>\n",
    "\n",
    "costs : RMSE of train data sets<br>\n",
    "test_costs : RMSE of test data sets<br>\n",
    "parameters : the dictionary named \"parameters\""
   ]
  },
  {
   "cell_type": "code",
   "execution_count": 65,
   "metadata": {},
   "outputs": [],
   "source": [
    "def train_and_test(parameters, epoch, n_User, n_Item, R, R_test, I):\n",
    "    costs=[]\n",
    "    test_costs = []\n",
    "    for i in range(epoch):\n",
    "        for j in range(n_User):\n",
    "            for k in range(n_Item):\n",
    "                if R[j,k]>0:\n",
    "                    gradient(parameters, j, k, R, stdv, stdv_Y, stdv_V, stdv_W, learning_rate, moment_Y, moment_V, moment_W, I)\n",
    "        Y = parameters['Y']\n",
    "        V = parameters['V']\n",
    "        W = parameters['W']\n",
    "        \n",
    "        U = make_U(parameters, R, n_User, dimension)\n",
    "        \n",
    "        R_predict_mean = np.dot(U.T,V)\n",
    "        R_predict = np.random.normal(R_predict_mean, stdv)\n",
    "\n",
    "        cost = RMSE_calculation(R, R_predict)\n",
    "        cost_test = RMSE_calculation(R_test, R_predict)\n",
    "        costs.append(cost)\n",
    "        test_costs.append(cost_test)\n",
    "        if (i%10 == 0):\n",
    "            print(\"epoch: %d ... RMSE: %f ... test_RMSE: %f\" %(i, cost, cost_test))\n",
    "    return costs, test_costs, parameters"
   ]
  },
  {
   "cell_type": "markdown",
   "metadata": {},
   "source": [
    "### Code Execution\n",
    "Prints the results of train data sets and test data sets.<br>\n",
    "Then, plots of each RMSE of train and test sets.<br>\n",
    "Finally, prints out the matrix Y, V and W forming approximation matrix $\\hat{R}$."
   ]
  },
  {
   "cell_type": "code",
   "execution_count": 66,
   "metadata": {
    "scrolled": true
   },
   "outputs": [
    {
     "name": "stdout",
     "output_type": "stream",
     "text": [
      "start running ------%\n",
      "epoch: 0 ... RMSE: 3.699516 ... test_RMSE: 3.719625\n",
      "epoch: 10 ... RMSE: 1.140950 ... test_RMSE: 1.529191\n",
      "epoch: 20 ... RMSE: 0.947054 ... test_RMSE: 1.231169\n",
      "epoch: 30 ... RMSE: 0.897284 ... test_RMSE: 1.158103\n",
      "epoch: 40 ... RMSE: 0.863983 ... test_RMSE: 1.129096\n",
      "epoch: 50 ... RMSE: 0.836500 ... test_RMSE: 1.117288\n"
     ]
    },
    {
     "data": {
      "image/png": "[encoded data removed]",
      "text/plain": [
       "<Figure size 432x288 with 1 Axes>"
      ]
     },
     "metadata": {
      "needs_background": "light"
     },
     "output_type": "display_data"
    },
    {
     "name": "stdout",
     "output_type": "stream",
     "text": [
      "----------\n",
      "[[-0.46390256 -0.30364188 -0.33067046 ... -0.35184748 -0.76458361\n",
      "  -0.50868526]\n",
      " [-0.15212289 -0.04595301 -0.3590895  ... -0.15192013 -0.13853966\n",
      "   0.18557155]\n",
      " [ 0.4036196   0.70697839  0.71421941 ...  0.70382809  0.69721049\n",
      "   0.99624119]\n",
      " ...\n",
      " [-0.20805415  0.11809965 -0.15081006 ... -0.01195736 -0.08585625\n",
      "  -0.58761138]\n",
      " [-0.77466885 -0.35381726 -0.18886304 ... -0.6232993  -0.55466552\n",
      "  -1.06314577]\n",
      " [-0.73711847 -0.48398519 -0.54437677 ... -0.29457451 -0.67784864\n",
      "  -0.10580695]]\n",
      "----------\n",
      "[[-0.44147834 -0.60797077 -0.71901546 ...  0.00430651 -0.13926423\n",
      "  -0.33505991]\n",
      " [ 0.06308745  0.04512354  0.34734443 ... -0.12677441 -0.18443356\n",
      "  -0.25359879]\n",
      " [ 0.20438357  0.40152457  0.22861225 ...  0.23830376 -0.04241347\n",
      "   0.25899624]\n",
      " ...\n",
      " [ 0.01435074 -0.15618619 -0.55117344 ...  0.09488801 -0.19362919\n",
      "   0.08945845]\n",
      " [-0.78726163 -0.40200506 -0.14412745 ... -0.18068089 -0.15735242\n",
      "  -0.24641199]\n",
      " [-0.36210897 -0.65888251 -0.43742148 ... -0.10378721 -0.21211889\n",
      "  -0.14859783]]\n",
      "----------\n",
      "[[-0.11561806 -0.15923643 -0.03097661 ... -0.27001034 -0.10427324\n",
      "  -0.07877653]\n",
      " [-0.22861569 -0.14132216 -0.13709033 ... -0.29514832 -0.22903716\n",
      "   0.03443009]\n",
      " [-0.22459431 -0.24515644 -0.33164098 ... -0.30312939 -0.01801695\n",
      "  -0.19343104]\n",
      " ...\n",
      " [-0.24624955 -0.44709658 -0.12705896 ... -0.12256179 -0.12820439\n",
      "   0.02703813]\n",
      " [-0.44840031 -0.30542646 -0.17899178 ... -0.32639495 -0.15094149\n",
      "  -0.09322413]\n",
      " [-0.33190317 -0.1564153  -0.37081689 ... -0.22251407 -0.05602865\n",
      "  -0.12529619]]\n"
     ]
    }
   ],
   "source": [
    "print(\"start running ------%\")\n",
    "data_sort, n_User, n_Item = import_data(\"../ml-100k/u1.base\")\n",
    "test_data_sort, test_n_User, test_n_Item = import_data(\"../ml-100k/u1.test\")\n",
    "R = make_R(data_sort)\n",
    "R_test = make_R(test_data_sort)\n",
    "I = np.array(np.vectorize(lambda x: 0 if x==0 else 1)(R), dtype = np.float64)\n",
    "\n",
    "moment_Y = np.zeros(R.shape)\n",
    "moment_V = np.zeros(R.shape)\n",
    "moment_W = np.zeros(R.shape)\n",
    "\n",
    "make_Y_V_W(n_User, n_Item, stdv_Y, stdv_V, stdv_W, dimension, parameters)\n",
    "\n",
    "costs, test_costs, parameters = train_and_test(parameters, epoch, n_User, n_Item, R, R_test, I)\n",
    "\n",
    "plt.ylim([0.70,2.0])\n",
    "plt.plot(costs, 'b', label='Train')\n",
    "plt.plot(test_costs, 'r', label='Test')\n",
    "plt.xlabel('epoch')\n",
    "plt.ylabel('RMSE')\n",
    "plt.title('PMF')\n",
    "plt.minorticks_on()\n",
    "plt.grid(b=True, which = 'major', color = '#666666', linestyle = '-', alpha = 0.2)\n",
    "plt.legend()\n",
    "\n",
    "plt.show()\n",
    "print('----------')\n",
    "print(parameters['Y'])\n",
    "print('----------')\n",
    "print(parameters['V'])\n",
    "print('----------')\n",
    "print(parameters['W'])"
   ]
  }
 ],
 "metadata": {
  "kernelspec": {
   "display_name": "Python 3",
   "language": "python",
   "name": "python3"
  },
  "language_info": {
   "codemirror_mode": {
    "name": "ipython",
    "version": 3
   },
   "file_extension": ".py",
   "mimetype": "text/x-python",
   "name": "python",
   "nbconvert_exporter": "python",
   "pygments_lexer": "ipython3",
   "version": "3.7.4"
  }
 },
 "nbformat": 4,
 "nbformat_minor": 2
}
