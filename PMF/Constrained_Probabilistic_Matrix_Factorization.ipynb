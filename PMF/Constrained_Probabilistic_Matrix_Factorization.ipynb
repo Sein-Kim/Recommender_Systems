{
 "cells": [
  {
   "cell_type": "markdown",
   "metadata": {},
   "source": [
    "# Constrained Probabilistic Matrix Factorization"
   ]
  },
  {
   "cell_type": "markdown",
   "metadata": {},
   "source": [
    "[\"about article of PMF - by Ruslan and Andriy\"](https://papers.nips.cc/paper/2007/file/d7322ed717dedf1eb4e6e52a37ea7bcd-Paper.pdf)"
   ]
  },
  {
   "cell_type": "code",
   "execution_count": 401,
   "metadata": {},
   "outputs": [],
   "source": [
    "import numpy as np\n",
    "import pandas as pd\n",
    "import math\n",
    "import matplotlib.pyplot as plt"
   ]
  },
  {
   "cell_type": "code",
   "execution_count": 402,
   "metadata": {},
   "outputs": [],
   "source": [
    "\"setting parameters\"\n",
    "dimension = 10\n",
    "stdv = 0.05\n",
    "stdv_Y = 0.5\n",
    "stdv_V = 0.5\n",
    "stdv_W = 0.5\n",
    "learning_rate = 0.005\n",
    "momentum = 0.2\n",
    "parameters = {}\n",
    "epoch = 100\n",
    "\n",
    "# parameters['moment_Y'] = moment_Y\n",
    "# parameters['moment_V'] = moment_V\n",
    "# parameters['momnet_W'] = moment_W"
   ]
  },
  {
   "cell_type": "markdown",
   "metadata": {},
   "source": [
    "### Import_data\n",
    "The code "
   ]
  },
  {
   "cell_type": "code",
   "execution_count": 403,
   "metadata": {},
   "outputs": [],
   "source": [
    "def import_data(path):\n",
    "    data = pd.read_csv(path, sep='\\t', names=['User', 'Item', 'Rating', 'Timestamp'], header=None)\n",
    "    data = data.drop('Timestamp', axis=1)\n",
    "    \n",
    "    data_pure = data.drop_duplicates(['User','Item'], keep = 'last')\n",
    "    \n",
    "    data_sort = data_pure.sort_values(['User', 'Item', 'Rating'])\n",
    "    \n",
    "    n_User = len(data_sort.User.unique())\n",
    "    n_Item = len(data_sort.Item.unique())\n",
    "    \n",
    "    return data_sort, n_User, n_Item"
   ]
  },
  {
   "cell_type": "code",
   "execution_count": 404,
   "metadata": {},
   "outputs": [],
   "source": [
    "def make_R(data):\n",
    "    R = data.pivot(index ='User', columns = 'Item', values = 'Rating')\n",
    "    R.fillna(0, inplace = True)\n",
    "    R = R.values\n",
    "    return R"
   ]
  },
  {
   "cell_type": "code",
   "execution_count": 405,
   "metadata": {},
   "outputs": [],
   "source": [
    "def make_Y_V_W(n_User, n_Item, stdv_Y, stdv_V, stdv_W, dimension, parameters):\n",
    "    Y = stdv_Y*np.random.randn(dimension, n_User)\n",
    "    V = stdv_V*np.random.randn(dimension, n_Item)\n",
    "    W = stdv_W*np.random.randn(dimension, n_Item)\n",
    "    parameters['Y'] = Y\n",
    "    parameters['V'] = V\n",
    "    parameters['W'] = W\n",
    "    return parameters"
   ]
  },
  {
   "cell_type": "code",
   "execution_count": 406,
   "metadata": {},
   "outputs": [],
   "source": [
    "def RMSE_calculation(original_data, predict_data):\n",
    "#     I = ~np.isnan(original_data)\n",
    "#     N = I.sum()\n",
    "#     sqerror = abs(original_data-predict_data)**2\n",
    "#     mse = sqerror[I].sum()/N\n",
    "    \n",
    "    xi, yi = original_data.nonzero()\n",
    "    error = 0\n",
    "    count = 0\n",
    "    for x, y in zip(xi,yi):\n",
    "        error += pow(original_data[x,y]-predict_data[x,y], 2)\n",
    "        count+=1\n",
    "    mse = error/count\n",
    "    return np.sqrt(mse)"
   ]
  },
  {
   "cell_type": "code",
   "execution_count": 407,
   "metadata": {},
   "outputs": [],
   "source": [
    "def make_sum_W(parameters, R, i, dimension):\n",
    "    W = parameters['W']\n",
    "    wj = R[i,:].nonzero()\n",
    "#     print(W.shape)\n",
    "#     print(wj[0])\n",
    "    sum_W = np.zeros((10,1))\n",
    "    count_W = 0\n",
    "    for k in wj[0]:\n",
    "#         print(k)\n",
    "#         print(W[:,k].shape)\n",
    "#         print(sum_W.shape)\n",
    "#         print(np.array([W[:,k]]).shape)\n",
    "\n",
    "        sum_W += np.array([W[:,k]]).T\n",
    "        count_W +=1\n",
    "    return sum_W, count_W, sum_W/count_W, wj"
   ]
  },
  {
   "cell_type": "code",
   "execution_count": 408,
   "metadata": {},
   "outputs": [],
   "source": [
    "def gradient(parameters, i, j, R, stdv, stdv_Y, stdv_V, stdv_W,learning_rate, moment_Y, moment_V, moment_W):\n",
    "    Y = parameters['Y']\n",
    "    V = parameters['V']\n",
    "    W = parameters['W']\n",
    "    \n",
    "    sum_W, count_W, cal_sum_W, wj = make_sum_W(parameters, R, i, dimension)\n",
    "    \n",
    "    YV_mean = np.dot(np.array([Y[:,i]])+cal_sum_W, np.array([V[:,j]]).T)\n",
    "    \n",
    "    difference = R[i,j] - YV_mean\n",
    "    lambda_Y = (stdv/stdv_Y)**2\n",
    "    lambda_V = (stdv/stdv_V)**2\n",
    "    lambda_W = (stdv/stdv_W)**2\n",
    "    copy_Y = Y.copy()\n",
    "    copy_V = V.copy()\n",
    "    \n",
    "    learning_Y = (learning_rate*(difference[0,0]*V[:,j] - lambda_Y*np.abs(Y[:,i])))\n",
    "    learning_V = (learning_rate*(difference[0,0]*(copy_Y[:,i] + cal_sum_W[:,0]) - lambda_V*np.abs(V[:,j])))\n",
    "    \n",
    "    learning_W_1 = (learning_rate*(difference[0,0]*copy_V[:,j]/count_W))\n",
    "    learning_W_2 = -learning_rate*np.abs(W[:,j])\n",
    "    \n",
    "    learning_W = learning_W_1 + learning_W_2\n",
    "    \n",
    "    Y_learn = np.mean(learning_Y)\n",
    "    V_learn = np.mean(learning_V)\n",
    "    W_learn = np.mean(learning_W)\n",
    "    \n",
    "    if not (Y_learn>0):\n",
    "        moment_Y[i,j]=0.0\n",
    "    if not (V_learn>0):\n",
    "        moment_V[i,j] = 0.0\n",
    "    if not (W_learn>0):\n",
    "        moment_W[i,j] = 0.0\n",
    "        \n",
    "    moment_Y[i,j] = momentum*moment_Y[i,j] + Y_learn\n",
    "    moment_V[i,j] = momentum*moment_V[i,j] + V_learn\n",
    "    moment_W[i,j] = momentum*moment_W[i,j] + np.mean(learning_W_2)\n",
    "    \n",
    "    Y[:,i] += moment_Y[i,j]\n",
    "    V[:,j] += moment_V[i,j]\n",
    "    W += np.mean(learning_W_1)\n",
    "    W[:,j] += moment_W[i,j]\n",
    "\n",
    "    parameters['Y'] = Y\n",
    "    parameters['V'] = V\n",
    "    parameters['W'] = W\n",
    "\n",
    "    return parameters"
   ]
  },
  {
   "cell_type": "code",
   "execution_count": 409,
   "metadata": {},
   "outputs": [],
   "source": [
    "def make_U(parameters, R, n_User, dimension):\n",
    "    Y = parameters['Y']\n",
    "    W = parameters['W']\n",
    "    U = np.zeros(Y.shape)\n",
    "    for i in range(n_User):\n",
    "        sum_W, count_W, cal_W, wj = make_sum_W(parameters, R, i, dimension)\n",
    "#         print(U[:,i].shape)\n",
    "#         print(Y[:,i].shape)\n",
    "#         print(cal_W.shape)\n",
    "        U[:,i] = Y[:,i] + cal_W[:,0]\n",
    "    return U\n",
    "    "
   ]
  },
  {
   "cell_type": "code",
   "execution_count": 410,
   "metadata": {},
   "outputs": [],
   "source": [
    "def train_and_test(parameters, epoch, n_User, n_Item, R, R_test):\n",
    "    costs=[]\n",
    "    test_costs = []\n",
    "    for i in range(epoch):\n",
    "        for j in range(n_User):\n",
    "            for k in range(n_Item):\n",
    "                if R[j,k]>0:\n",
    "                    gradient(parameters, j, k, R, stdv, stdv_Y, stdv_V, stdv_W, learning_rate, moment_Y, moment_V, moment_W)\n",
    "        Y = parameters['Y']\n",
    "        V = parameters['V']\n",
    "        W = parameters['W']\n",
    "        \n",
    "        U = make_U(parameters, R, n_User, dimension)\n",
    "        \n",
    "        R_predict_mean = np.dot(U.T,V)\n",
    "        R_predict = np.random.normal(R_predict_mean, stdv)\n",
    "\n",
    "        cost = RMSE_calculation(R, R_predict)\n",
    "        cost_test = RMSE_calculation(R_test, R_predict)\n",
    "        costs.append(cost)\n",
    "        test_costs.append(cost_test)\n",
    "        if (epoch%10 == 0):\n",
    "            print(\"epoch: %d ... RMSE: %f ... test_RMSE: %f\" %(i, cost, cost_test))\n",
    "    return costs, test_costs, parameters"
   ]
  },
  {
   "cell_type": "code",
   "execution_count": 411,
   "metadata": {
    "scrolled": true
   },
   "outputs": [
    {
     "name": "stdout",
     "output_type": "stream",
     "text": [
      "start running ------%\n",
      "epoch: 0 ... RMSE: 1.644628 ... test_RMSE: 1.943254\n",
      "epoch: 1 ... RMSE: 2.055417 ... test_RMSE: 2.378941\n"
     ]
    },
    {
     "name": "stderr",
     "output_type": "stream",
     "text": [
      "/home/sein/anaconda3/lib/python3.7/site-packages/ipykernel_launcher.py:18: RuntimeWarning: overflow encountered in multiply\n"
     ]
    },
    {
     "name": "stdout",
     "output_type": "stream",
     "text": [
      "epoch: 2 ... RMSE: nan ... test_RMSE: nan\n",
      "epoch: 3 ... RMSE: nan ... test_RMSE: nan\n",
      "epoch: 4 ... RMSE: nan ... test_RMSE: nan\n",
      "epoch: 5 ... RMSE: nan ... test_RMSE: nan\n"
     ]
    },
    {
     "ename": "KeyboardInterrupt",
     "evalue": "",
     "output_type": "error",
     "traceback": [
      "\u001b[0;31m---------------------------------------------------------------------------\u001b[0m",
      "\u001b[0;31mKeyboardInterrupt\u001b[0m                         Traceback (most recent call last)",
      "\u001b[0;32m<ipython-input-411-d1215e27c48c>\u001b[0m in \u001b[0;36m<module>\u001b[0;34m\u001b[0m\n\u001b[1;32m     11\u001b[0m \u001b[0mmake_Y_V_W\u001b[0m\u001b[0;34m(\u001b[0m\u001b[0mn_User\u001b[0m\u001b[0;34m,\u001b[0m \u001b[0mn_Item\u001b[0m\u001b[0;34m,\u001b[0m \u001b[0mstdv_Y\u001b[0m\u001b[0;34m,\u001b[0m \u001b[0mstdv_V\u001b[0m\u001b[0;34m,\u001b[0m \u001b[0mstdv_W\u001b[0m\u001b[0;34m,\u001b[0m \u001b[0mdimension\u001b[0m\u001b[0;34m,\u001b[0m \u001b[0mparameters\u001b[0m\u001b[0;34m)\u001b[0m\u001b[0;34m\u001b[0m\u001b[0;34m\u001b[0m\u001b[0m\n\u001b[1;32m     12\u001b[0m \u001b[0;34m\u001b[0m\u001b[0m\n\u001b[0;32m---> 13\u001b[0;31m \u001b[0mcosts\u001b[0m\u001b[0;34m,\u001b[0m \u001b[0mtest_costs\u001b[0m\u001b[0;34m,\u001b[0m \u001b[0mparameters\u001b[0m \u001b[0;34m=\u001b[0m \u001b[0mtrain_and_test\u001b[0m\u001b[0;34m(\u001b[0m\u001b[0mparameters\u001b[0m\u001b[0;34m,\u001b[0m \u001b[0mepoch\u001b[0m\u001b[0;34m,\u001b[0m \u001b[0mn_User\u001b[0m\u001b[0;34m,\u001b[0m \u001b[0mn_Item\u001b[0m\u001b[0;34m,\u001b[0m \u001b[0mR\u001b[0m\u001b[0;34m,\u001b[0m \u001b[0mR_test\u001b[0m\u001b[0;34m)\u001b[0m\u001b[0;34m\u001b[0m\u001b[0;34m\u001b[0m\u001b[0m\n\u001b[0m\u001b[1;32m     14\u001b[0m \u001b[0;34m\u001b[0m\u001b[0m\n\u001b[1;32m     15\u001b[0m \u001b[0mplt\u001b[0m\u001b[0;34m.\u001b[0m\u001b[0mylim\u001b[0m\u001b[0;34m(\u001b[0m\u001b[0;34m[\u001b[0m\u001b[0;36m0.90\u001b[0m\u001b[0;34m,\u001b[0m\u001b[0;36m1.5\u001b[0m\u001b[0;34m]\u001b[0m\u001b[0;34m)\u001b[0m\u001b[0;34m\u001b[0m\u001b[0;34m\u001b[0m\u001b[0m\n",
      "\u001b[0;32m<ipython-input-410-43c9a5f28839>\u001b[0m in \u001b[0;36mtrain_and_test\u001b[0;34m(parameters, epoch, n_User, n_Item, R, R_test)\u001b[0m\n\u001b[1;32m      6\u001b[0m             \u001b[0;32mfor\u001b[0m \u001b[0mk\u001b[0m \u001b[0;32min\u001b[0m \u001b[0mrange\u001b[0m\u001b[0;34m(\u001b[0m\u001b[0mn_Item\u001b[0m\u001b[0;34m)\u001b[0m\u001b[0;34m:\u001b[0m\u001b[0;34m\u001b[0m\u001b[0;34m\u001b[0m\u001b[0m\n\u001b[1;32m      7\u001b[0m                 \u001b[0;32mif\u001b[0m \u001b[0mR\u001b[0m\u001b[0;34m[\u001b[0m\u001b[0mj\u001b[0m\u001b[0;34m,\u001b[0m\u001b[0mk\u001b[0m\u001b[0;34m]\u001b[0m\u001b[0;34m>\u001b[0m\u001b[0;36m0\u001b[0m\u001b[0;34m:\u001b[0m\u001b[0;34m\u001b[0m\u001b[0;34m\u001b[0m\u001b[0m\n\u001b[0;32m----> 8\u001b[0;31m                     \u001b[0mgradient\u001b[0m\u001b[0;34m(\u001b[0m\u001b[0mparameters\u001b[0m\u001b[0;34m,\u001b[0m \u001b[0mj\u001b[0m\u001b[0;34m,\u001b[0m \u001b[0mk\u001b[0m\u001b[0;34m,\u001b[0m \u001b[0mR\u001b[0m\u001b[0;34m,\u001b[0m \u001b[0mstdv\u001b[0m\u001b[0;34m,\u001b[0m \u001b[0mstdv_Y\u001b[0m\u001b[0;34m,\u001b[0m \u001b[0mstdv_V\u001b[0m\u001b[0;34m,\u001b[0m \u001b[0mstdv_W\u001b[0m\u001b[0;34m,\u001b[0m \u001b[0mlearning_rate\u001b[0m\u001b[0;34m,\u001b[0m \u001b[0mmoment_Y\u001b[0m\u001b[0;34m,\u001b[0m \u001b[0mmoment_V\u001b[0m\u001b[0;34m,\u001b[0m \u001b[0mmoment_W\u001b[0m\u001b[0;34m)\u001b[0m\u001b[0;34m\u001b[0m\u001b[0;34m\u001b[0m\u001b[0m\n\u001b[0m\u001b[1;32m      9\u001b[0m         \u001b[0mY\u001b[0m \u001b[0;34m=\u001b[0m \u001b[0mparameters\u001b[0m\u001b[0;34m[\u001b[0m\u001b[0;34m'Y'\u001b[0m\u001b[0;34m]\u001b[0m\u001b[0;34m\u001b[0m\u001b[0;34m\u001b[0m\u001b[0m\n\u001b[1;32m     10\u001b[0m         \u001b[0mV\u001b[0m \u001b[0;34m=\u001b[0m \u001b[0mparameters\u001b[0m\u001b[0;34m[\u001b[0m\u001b[0;34m'V'\u001b[0m\u001b[0;34m]\u001b[0m\u001b[0;34m\u001b[0m\u001b[0;34m\u001b[0m\u001b[0m\n",
      "\u001b[0;32m<ipython-input-408-ea1eb5e84ed2>\u001b[0m in \u001b[0;36mgradient\u001b[0;34m(parameters, i, j, R, stdv, stdv_Y, stdv_V, stdv_W, learning_rate, moment_Y, moment_V, moment_W)\u001b[0m\n\u001b[1;32m      4\u001b[0m     \u001b[0mW\u001b[0m \u001b[0;34m=\u001b[0m \u001b[0mparameters\u001b[0m\u001b[0;34m[\u001b[0m\u001b[0;34m'W'\u001b[0m\u001b[0;34m]\u001b[0m\u001b[0;34m\u001b[0m\u001b[0;34m\u001b[0m\u001b[0m\n\u001b[1;32m      5\u001b[0m \u001b[0;34m\u001b[0m\u001b[0m\n\u001b[0;32m----> 6\u001b[0;31m     \u001b[0msum_W\u001b[0m\u001b[0;34m,\u001b[0m \u001b[0mcount_W\u001b[0m\u001b[0;34m,\u001b[0m \u001b[0mcal_sum_W\u001b[0m\u001b[0;34m,\u001b[0m \u001b[0mwj\u001b[0m \u001b[0;34m=\u001b[0m \u001b[0mmake_sum_W\u001b[0m\u001b[0;34m(\u001b[0m\u001b[0mparameters\u001b[0m\u001b[0;34m,\u001b[0m \u001b[0mR\u001b[0m\u001b[0;34m,\u001b[0m \u001b[0mi\u001b[0m\u001b[0;34m,\u001b[0m \u001b[0mdimension\u001b[0m\u001b[0;34m)\u001b[0m\u001b[0;34m\u001b[0m\u001b[0;34m\u001b[0m\u001b[0m\n\u001b[0m\u001b[1;32m      7\u001b[0m \u001b[0;34m\u001b[0m\u001b[0m\n\u001b[1;32m      8\u001b[0m     \u001b[0mYV_mean\u001b[0m \u001b[0;34m=\u001b[0m \u001b[0mnp\u001b[0m\u001b[0;34m.\u001b[0m\u001b[0mdot\u001b[0m\u001b[0;34m(\u001b[0m\u001b[0mnp\u001b[0m\u001b[0;34m.\u001b[0m\u001b[0marray\u001b[0m\u001b[0;34m(\u001b[0m\u001b[0;34m[\u001b[0m\u001b[0mY\u001b[0m\u001b[0;34m[\u001b[0m\u001b[0;34m:\u001b[0m\u001b[0;34m,\u001b[0m\u001b[0mi\u001b[0m\u001b[0;34m]\u001b[0m\u001b[0;34m]\u001b[0m\u001b[0;34m)\u001b[0m\u001b[0;34m+\u001b[0m\u001b[0mcal_sum_W\u001b[0m\u001b[0;34m,\u001b[0m \u001b[0mnp\u001b[0m\u001b[0;34m.\u001b[0m\u001b[0marray\u001b[0m\u001b[0;34m(\u001b[0m\u001b[0;34m[\u001b[0m\u001b[0mV\u001b[0m\u001b[0;34m[\u001b[0m\u001b[0;34m:\u001b[0m\u001b[0;34m,\u001b[0m\u001b[0mj\u001b[0m\u001b[0;34m]\u001b[0m\u001b[0;34m]\u001b[0m\u001b[0;34m)\u001b[0m\u001b[0;34m.\u001b[0m\u001b[0mT\u001b[0m\u001b[0;34m)\u001b[0m\u001b[0;34m\u001b[0m\u001b[0;34m\u001b[0m\u001b[0m\n",
      "\u001b[0;32m<ipython-input-407-4629f83f5110>\u001b[0m in \u001b[0;36mmake_sum_W\u001b[0;34m(parameters, R, i, dimension)\u001b[0m\n\u001b[1;32m     12\u001b[0m \u001b[0;31m#         print(np.array([W[:,k]]).shape)\u001b[0m\u001b[0;34m\u001b[0m\u001b[0;34m\u001b[0m\u001b[0;34m\u001b[0m\u001b[0m\n\u001b[1;32m     13\u001b[0m \u001b[0;34m\u001b[0m\u001b[0m\n\u001b[0;32m---> 14\u001b[0;31m         \u001b[0msum_W\u001b[0m \u001b[0;34m+=\u001b[0m \u001b[0mnp\u001b[0m\u001b[0;34m.\u001b[0m\u001b[0marray\u001b[0m\u001b[0;34m(\u001b[0m\u001b[0;34m[\u001b[0m\u001b[0mW\u001b[0m\u001b[0;34m[\u001b[0m\u001b[0;34m:\u001b[0m\u001b[0;34m,\u001b[0m\u001b[0mk\u001b[0m\u001b[0;34m]\u001b[0m\u001b[0;34m]\u001b[0m\u001b[0;34m)\u001b[0m\u001b[0;34m.\u001b[0m\u001b[0mT\u001b[0m\u001b[0;34m\u001b[0m\u001b[0;34m\u001b[0m\u001b[0m\n\u001b[0m\u001b[1;32m     15\u001b[0m         \u001b[0mcount_W\u001b[0m \u001b[0;34m+=\u001b[0m\u001b[0;36m1\u001b[0m\u001b[0;34m\u001b[0m\u001b[0;34m\u001b[0m\u001b[0m\n\u001b[1;32m     16\u001b[0m     \u001b[0;32mreturn\u001b[0m \u001b[0msum_W\u001b[0m\u001b[0;34m,\u001b[0m \u001b[0mcount_W\u001b[0m\u001b[0;34m,\u001b[0m \u001b[0msum_W\u001b[0m\u001b[0;34m/\u001b[0m\u001b[0mcount_W\u001b[0m\u001b[0;34m,\u001b[0m \u001b[0mwj\u001b[0m\u001b[0;34m\u001b[0m\u001b[0;34m\u001b[0m\u001b[0m\n",
      "\u001b[0;31mKeyboardInterrupt\u001b[0m: "
     ]
    }
   ],
   "source": [
    "print(\"start running ------%\")\n",
    "data_sort, n_User, n_Item = import_data(\"../ml-100k/u1.base\")\n",
    "test_data_sort, test_n_User, test_n_Item = import_data(\"../ml-100k/u1.test\")\n",
    "R = make_R(data_sort)\n",
    "R_test = make_R(test_data_sort)\n",
    "\n",
    "moment_Y = np.zeros(R.shape)\n",
    "moment_V = np.zeros(R.shape)\n",
    "moment_W = np.zeros(R.shape)\n",
    "\n",
    "make_Y_V_W(n_User, n_Item, stdv_Y, stdv_V, stdv_W, dimension, parameters)\n",
    "\n",
    "costs, test_costs, parameters = train_and_test(parameters, epoch, n_User, n_Item, R, R_test)\n",
    "\n",
    "plt.ylim([0.90,1.5])\n",
    "plt.plot(costs, 'b', label='Train')\n",
    "plt.plot(test_costs, 'r', label='Test')\n",
    "plt.xlabel('epoch')\n",
    "plt.ylabel('RMSE')\n",
    "plt.title('PMF')\n",
    "plt.minorticks_on()\n",
    "plt.grid(b=True, which = 'major', color = '#666666', linestyle = '-', alpha = 0.2)\n",
    "plt.legend()\n",
    "\n",
    "plt.show()\n",
    "print('----------')\n",
    "print(parameters['Y'])\n",
    "print('----------')\n",
    "print(parameters['V'])\n",
    "print('----------')\n",
    "print(parameters['W'])"
   ]
  }
 ],
 "metadata": {
  "kernelspec": {
   "display_name": "Python 3",
   "language": "python",
   "name": "python3"
  },
  "language_info": {
   "codemirror_mode": {
    "name": "ipython",
    "version": 3
   },
   "file_extension": ".py",
   "mimetype": "text/x-python",
   "name": "python",
   "nbconvert_exporter": "python",
   "pygments_lexer": "ipython3",
   "version": "3.7.4"
  }
 },
 "nbformat": 4,
 "nbformat_minor": 2
}
