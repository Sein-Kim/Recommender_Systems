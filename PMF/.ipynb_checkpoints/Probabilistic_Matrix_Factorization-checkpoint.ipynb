{
 "cells": [
  {
   "cell_type": "markdown",
   "metadata": {},
   "source": [
    "# Probabilistic Matrix Factorization"
   ]
  },
  {
   "cell_type": "markdown",
   "metadata": {},
   "source": [
    "[\"about article of PMF - by Ruslan and Andriy\"](https://papers.nips.cc/paper/2007/file/d7322ed717dedf1eb4e6e52a37ea7bcd-Paper.pdf)"
   ]
  },
  {
   "cell_type": "code",
   "execution_count": 21,
   "metadata": {},
   "outputs": [],
   "source": [
    "import numpy as np\n",
    "import pandas as pd\n",
    "import math\n",
    "import matplotlib.pyplot as plt"
   ]
  },
  {
   "cell_type": "code",
   "execution_count": 22,
   "metadata": {},
   "outputs": [],
   "source": [
    "\"setting parameters\"\n",
    "dimension = 10\n",
    "stdv = 0.01\n",
    "stdv_U = 0.1\n",
    "stdv_V = 0.1\n",
    "learning_rate = 0.005\n",
    "momentum = 0.5\n",
    "parameters = {}\n",
    "epoch = 100\n",
    "\n",
    "# parameters['moment_U'] = moment_U\n",
    "# parameters['moment_V'] = moment_V"
   ]
  },
  {
   "cell_type": "markdown",
   "metadata": {},
   "source": [
    "### Import_data\n",
    "The code "
   ]
  },
  {
   "cell_type": "code",
   "execution_count": 23,
   "metadata": {},
   "outputs": [],
   "source": [
    "def import_data(path):\n",
    "    data = pd.read_csv(path, sep='\\t', names=['User', 'Item', 'Rating', 'Timestamp'], header=None)\n",
    "    data = data.drop('Timestamp', axis=1)\n",
    "    \n",
    "    data_pure = data.drop_duplicates(['User','Item'], keep = 'last')\n",
    "    \n",
    "    data_sort = data_pure.sort_values(['User', 'Item', 'Rating'])\n",
    "    \n",
    "    n_User = len(data_sort.User.unique())\n",
    "    n_Item = len(data_sort.Item.unique())\n",
    "    \n",
    "    return data_sort, n_User, n_Item"
   ]
  },
  {
   "cell_type": "code",
   "execution_count": 24,
   "metadata": {},
   "outputs": [],
   "source": [
    "def make_R(data):\n",
    "    R = data.pivot(index ='User', columns = 'Item', values = 'Rating')\n",
    "    R.fillna(0, inplace = True)\n",
    "    R = R.values\n",
    "    return R"
   ]
  },
  {
   "cell_type": "code",
   "execution_count": 25,
   "metadata": {},
   "outputs": [],
   "source": [
    "def make_U_V(n_User, n_Item, stdv_U, stdv_V, dimension, parameters):\n",
    "    U = stdv_U*np.random.randn(dimension, n_User)\n",
    "    V = stdv_V*np.random.randn(dimension, n_Item)\n",
    "    parameters['U'] = U\n",
    "    parameters['V'] = V\n",
    "    return parameters"
   ]
  },
  {
   "cell_type": "code",
   "execution_count": 26,
   "metadata": {},
   "outputs": [],
   "source": [
    "def RMSE_calculation(original_data, predict_data):\n",
    "#     I = ~np.isnan(original_data)\n",
    "#     N = I.sum()\n",
    "#     sqerror = abs(original_data-predict_data)**2\n",
    "#     mse = sqerror[I].sum()/N\n",
    "    \n",
    "    xi, yi = original_data.nonzero()\n",
    "    error = 0\n",
    "    count = 0\n",
    "    for x, y in zip(xi,yi):\n",
    "        error += pow(original_data[x,y]-predict_data[x,y], 2)\n",
    "        count+=1\n",
    "    mse = error/count\n",
    "    return np.sqrt(mse)"
   ]
  },
  {
   "cell_type": "code",
   "execution_count": 27,
   "metadata": {},
   "outputs": [],
   "source": [
    "def gradient(parameters, i, j, R, stdv, stdv_U, stdv_V, learning_rate, moment_U, moment_V):\n",
    "    U = parameters['U']\n",
    "    V = parameters['V']\n",
    "    \n",
    "    UV_mean = np.dot(np.array([U[:,i]]), np.array([V[:,j]]).T)\n",
    "    difference = R[i,j] - UV_mean\n",
    "    lambda_U = (stdv/stdv_U)**2\n",
    "    lambda_V = (stdv/stdv_V)**2\n",
    "    copy_U = U.copy()\n",
    "    \n",
    "    learning_U = (learning_rate*(difference[0,0]*V[:,j] - lambda_U*np.abs(U[:,i])))\n",
    "    learning_V = (learning_rate*(difference[0,0]*copy_U[:,i] - lambda_V*np.abs(V[:,j])))\n",
    "    \n",
    "    U_learn = np.mean(learning_U)\n",
    "    V_learn = np.mean(learning_V)\n",
    "    if not (U_learn>0):\n",
    "        moment_U[i,j]=0.0\n",
    "    if not (V_learn>0):\n",
    "        moment_V[i,j] = 0.0\n",
    "    moment_U[i,j] = momentum*moment_U[i,j] + U_learn\n",
    "    moment_V[i,j] = momentum*moment_V[i,j] + V_learn\n",
    "    \n",
    "    U[:,i] += moment_U[i,j]\n",
    "    V[:,j] += moment_V[i,j]\n",
    "\n",
    "    parameters['U'] = U\n",
    "    parameters['V'] = V\n",
    "\n",
    "    return parameters"
   ]
  },
  {
   "cell_type": "code",
   "execution_count": 28,
   "metadata": {},
   "outputs": [],
   "source": [
    "def train_and_test(parameters, epoch, n_User, n_Item, R, R_test):\n",
    "    costs=[]\n",
    "    test_costs = []\n",
    "    for i in range(epoch):\n",
    "        for j in range(n_User):\n",
    "            for k in range(n_Item):\n",
    "                if R[j,k]>0:\n",
    "                    gradient(parameters, j, k, R, stdv, stdv_U, stdv_V, learning_rate, moment_U, moment_V)\n",
    "        U = parameters['U']\n",
    "        V = parameters['V']\n",
    "        R_predict_mean = np.dot(U.T,V)\n",
    "        R_predict = np.random.normal(R_predict_mean, stdv)\n",
    "\n",
    "        cost = RMSE_calculation(R, R_predict)\n",
    "        cost_test = RMSE_calculation(R_test, R_predict)\n",
    "        costs.append(cost)\n",
    "        test_costs.append(cost_test)\n",
    "        if (i%10 == 0):\n",
    "            print(\"epoch: %d ... RMSE: %f ... test_RMSE: %f\" %(i, cost, cost_test))\n",
    "    return costs, test_costs, parameters"
   ]
  },
  {
   "cell_type": "code",
   "execution_count": 29,
   "metadata": {
    "scrolled": true
   },
   "outputs": [
    {
     "name": "stdout",
     "output_type": "stream",
     "text": [
      "epoch: 0 ... RMSE: 3.691445 ... test_RMSE: 3.717210\n",
      "epoch: 1 ... RMSE: 2.881937 ... test_RMSE: 3.469778\n",
      "epoch: 2 ... RMSE: 1.548799 ... test_RMSE: 2.032926\n",
      "epoch: 3 ... RMSE: 1.172870 ... test_RMSE: 1.514547\n",
      "epoch: 4 ... RMSE: 1.062686 ... test_RMSE: 1.323574\n",
      "epoch: 5 ... RMSE: 1.020489 ... test_RMSE: 1.241086\n",
      "epoch: 6 ... RMSE: 0.999764 ... test_RMSE: 1.199226\n",
      "epoch: 7 ... RMSE: 0.987731 ... test_RMSE: 1.174954\n",
      "epoch: 8 ... RMSE: 0.980347 ... test_RMSE: 1.159500\n",
      "epoch: 9 ... RMSE: 0.975195 ... test_RMSE: 1.148802\n",
      "epoch: 10 ... RMSE: 0.971237 ... test_RMSE: 1.140999\n",
      "epoch: 11 ... RMSE: 0.968377 ... test_RMSE: 1.135049\n",
      "epoch: 12 ... RMSE: 0.966214 ... test_RMSE: 1.130488\n",
      "epoch: 13 ... RMSE: 0.964352 ... test_RMSE: 1.126700\n",
      "epoch: 14 ... RMSE: 0.962842 ... test_RMSE: 1.123678\n",
      "epoch: 15 ... RMSE: 0.961503 ... test_RMSE: 1.121056\n",
      "epoch: 16 ... RMSE: 0.960419 ... test_RMSE: 1.119052\n",
      "epoch: 17 ... RMSE: 0.959493 ... test_RMSE: 1.117183\n",
      "epoch: 18 ... RMSE: 0.958700 ... test_RMSE: 1.115622\n",
      "epoch: 19 ... RMSE: 0.957992 ... test_RMSE: 1.114351\n",
      "epoch: 20 ... RMSE: 0.957501 ... test_RMSE: 1.113082\n",
      "epoch: 21 ... RMSE: 0.956902 ... test_RMSE: 1.112082\n",
      "epoch: 22 ... RMSE: 0.956504 ... test_RMSE: 1.111248\n",
      "epoch: 23 ... RMSE: 0.956076 ... test_RMSE: 1.110461\n",
      "epoch: 24 ... RMSE: 0.955682 ... test_RMSE: 1.109698\n",
      "epoch: 25 ... RMSE: 0.955358 ... test_RMSE: 1.109043\n",
      "epoch: 26 ... RMSE: 0.955084 ... test_RMSE: 1.108507\n",
      "epoch: 27 ... RMSE: 0.954853 ... test_RMSE: 1.107976\n",
      "epoch: 28 ... RMSE: 0.954595 ... test_RMSE: 1.107532\n",
      "epoch: 29 ... RMSE: 0.954277 ... test_RMSE: 1.107089\n",
      "epoch: 30 ... RMSE: 0.954169 ... test_RMSE: 1.106831\n",
      "epoch: 31 ... RMSE: 0.953881 ... test_RMSE: 1.106374\n",
      "epoch: 32 ... RMSE: 0.953783 ... test_RMSE: 1.105995\n",
      "epoch: 33 ... RMSE: 0.953578 ... test_RMSE: 1.105642\n",
      "epoch: 34 ... RMSE: 0.953427 ... test_RMSE: 1.105453\n",
      "epoch: 35 ... RMSE: 0.953252 ... test_RMSE: 1.105151\n",
      "epoch: 36 ... RMSE: 0.953128 ... test_RMSE: 1.104974\n",
      "epoch: 37 ... RMSE: 0.953041 ... test_RMSE: 1.104864\n",
      "epoch: 38 ... RMSE: 0.952918 ... test_RMSE: 1.104460\n",
      "epoch: 39 ... RMSE: 0.952821 ... test_RMSE: 1.104305\n",
      "epoch: 40 ... RMSE: 0.952707 ... test_RMSE: 1.104242\n",
      "epoch: 41 ... RMSE: 0.952575 ... test_RMSE: 1.104189\n",
      "epoch: 42 ... RMSE: 0.952510 ... test_RMSE: 1.104121\n",
      "epoch: 43 ... RMSE: 0.952380 ... test_RMSE: 1.103813\n",
      "epoch: 44 ... RMSE: 0.952306 ... test_RMSE: 1.103641\n",
      "epoch: 45 ... RMSE: 0.952235 ... test_RMSE: 1.103655\n",
      "epoch: 46 ... RMSE: 0.952156 ... test_RMSE: 1.103633\n",
      "epoch: 47 ... RMSE: 0.952058 ... test_RMSE: 1.103570\n",
      "epoch: 48 ... RMSE: 0.952036 ... test_RMSE: 1.103412\n",
      "epoch: 49 ... RMSE: 0.951968 ... test_RMSE: 1.103463\n",
      "epoch: 50 ... RMSE: 0.951887 ... test_RMSE: 1.103278\n",
      "epoch: 51 ... RMSE: 0.951840 ... test_RMSE: 1.103173\n",
      "epoch: 52 ... RMSE: 0.951794 ... test_RMSE: 1.103121\n",
      "epoch: 53 ... RMSE: 0.951776 ... test_RMSE: 1.103133\n",
      "epoch: 54 ... RMSE: 0.951706 ... test_RMSE: 1.102964\n",
      "epoch: 55 ... RMSE: 0.951718 ... test_RMSE: 1.102931\n",
      "epoch: 56 ... RMSE: 0.951634 ... test_RMSE: 1.102779\n",
      "epoch: 57 ... RMSE: 0.951586 ... test_RMSE: 1.102726\n",
      "epoch: 58 ... RMSE: 0.951499 ... test_RMSE: 1.102912\n",
      "epoch: 59 ... RMSE: 0.951461 ... test_RMSE: 1.102629\n",
      "epoch: 60 ... RMSE: 0.951480 ... test_RMSE: 1.102517\n",
      "epoch: 61 ... RMSE: 0.951430 ... test_RMSE: 1.102583\n",
      "epoch: 62 ... RMSE: 0.951457 ... test_RMSE: 1.102627\n",
      "epoch: 63 ... RMSE: 0.951429 ... test_RMSE: 1.102585\n",
      "epoch: 64 ... RMSE: 0.951369 ... test_RMSE: 1.102627\n",
      "epoch: 65 ... RMSE: 0.951282 ... test_RMSE: 1.102576\n",
      "epoch: 66 ... RMSE: 0.951275 ... test_RMSE: 1.102407\n",
      "epoch: 67 ... RMSE: 0.951278 ... test_RMSE: 1.102334\n",
      "epoch: 68 ... RMSE: 0.951222 ... test_RMSE: 1.102440\n",
      "epoch: 69 ... RMSE: 0.951224 ... test_RMSE: 1.102407\n",
      "epoch: 70 ... RMSE: 0.951174 ... test_RMSE: 1.102261\n",
      "epoch: 71 ... RMSE: 0.951176 ... test_RMSE: 1.102473\n",
      "epoch: 72 ... RMSE: 0.951138 ... test_RMSE: 1.102381\n",
      "epoch: 73 ... RMSE: 0.951196 ... test_RMSE: 1.102272\n",
      "epoch: 74 ... RMSE: 0.951134 ... test_RMSE: 1.102211\n",
      "epoch: 75 ... RMSE: 0.951141 ... test_RMSE: 1.102249\n",
      "epoch: 76 ... RMSE: 0.951098 ... test_RMSE: 1.102324\n",
      "epoch: 77 ... RMSE: 0.951002 ... test_RMSE: 1.102182\n",
      "epoch: 78 ... RMSE: 0.951081 ... test_RMSE: 1.102198\n",
      "epoch: 79 ... RMSE: 0.951017 ... test_RMSE: 1.102227\n",
      "epoch: 80 ... RMSE: 0.951004 ... test_RMSE: 1.102235\n",
      "epoch: 81 ... RMSE: 0.951037 ... test_RMSE: 1.102198\n",
      "epoch: 82 ... RMSE: 0.951052 ... test_RMSE: 1.102176\n",
      "epoch: 83 ... RMSE: 0.950945 ... test_RMSE: 1.102086\n",
      "epoch: 84 ... RMSE: 0.951004 ... test_RMSE: 1.102257\n",
      "epoch: 85 ... RMSE: 0.950910 ... test_RMSE: 1.102096\n",
      "epoch: 86 ... RMSE: 0.950960 ... test_RMSE: 1.102080\n",
      "epoch: 87 ... RMSE: 0.950919 ... test_RMSE: 1.102240\n",
      "epoch: 88 ... RMSE: 0.950872 ... test_RMSE: 1.102138\n",
      "epoch: 89 ... RMSE: 0.950926 ... test_RMSE: 1.102125\n",
      "epoch: 90 ... RMSE: 0.950878 ... test_RMSE: 1.101998\n",
      "epoch: 91 ... RMSE: 0.950839 ... test_RMSE: 1.102143\n",
      "epoch: 92 ... RMSE: 0.950865 ... test_RMSE: 1.102138\n",
      "epoch: 93 ... RMSE: 0.950881 ... test_RMSE: 1.101975\n",
      "epoch: 94 ... RMSE: 0.950842 ... test_RMSE: 1.102013\n",
      "epoch: 95 ... RMSE: 0.950874 ... test_RMSE: 1.101967\n",
      "epoch: 96 ... RMSE: 0.950852 ... test_RMSE: 1.101872\n",
      "epoch: 97 ... RMSE: 0.950778 ... test_RMSE: 1.101930\n",
      "epoch: 98 ... RMSE: 0.950813 ... test_RMSE: 1.102005\n",
      "epoch: 99 ... RMSE: 0.950749 ... test_RMSE: 1.101964\n"
     ]
    },
    {
     "data": {
      "image/png": "[encoded data removed]",
      "text/plain": [
       "<Figure size 432x288 with 1 Axes>"
      ]
     },
     "metadata": {
      "needs_background": "light"
     },
     "output_type": "display_data"
    },
    {
     "name": "stdout",
     "output_type": "stream",
     "text": [
      "----------\n",
      "[[0.61155147 0.49468017 0.70751546 ... 0.62727858 0.70771974 0.77567999]\n",
      " [0.77190812 0.65760085 0.48257971 ... 0.69575371 0.59890177 0.63719871]\n",
      " [0.79484173 0.60076332 0.67013    ... 0.77501482 0.62522165 0.59462175]\n",
      " ...\n",
      " [0.56166228 0.61391934 0.67170648 ... 0.63872299 0.61286308 0.67604852]\n",
      " [0.69080056 0.63470366 0.56019725 ... 0.60743532 0.69984304 0.62472518]\n",
      " [0.62164471 0.61876803 0.61255193 ... 0.5359326  0.5990893  0.64100574]]\n",
      "----------\n",
      "[[0.73688629 0.62510716 0.57960682 ... 0.2690502  0.43783588 0.38351151]\n",
      " [0.6510558  0.60469458 0.37087075 ... 0.3486709  0.76818245 0.34983747]\n",
      " [0.61753858 0.6759301  0.54084261 ... 0.39484316 0.53381868 0.62095127]\n",
      " ...\n",
      " [0.57810727 0.44423953 0.40074756 ... 0.34761611 0.42657231 0.5688173 ]\n",
      " [0.6114259  0.7617578  0.71310856 ... 0.16727569 0.57559421 0.42380488]\n",
      " [0.63268487 0.5149447  0.47907252 ... 0.46301432 0.55504859 0.42335368]]\n"
     ]
    }
   ],
   "source": [
    "data_sort, n_User, n_Item = import_data(\"../ml-100k/u1.base\")\n",
    "test_data_sort, test_n_User, test_n_Item = import_data(\"../ml-100k/u1.test\")\n",
    "R = make_R(data_sort)\n",
    "R_test = make_R(test_data_sort)\n",
    "\n",
    "moment_U = np.zeros(R.shape)\n",
    "moment_V = np.zeros(R.shape)\n",
    "\n",
    "make_U_V(n_User, n_Item, stdv_U, stdv_V, dimension, parameters)\n",
    "\n",
    "costs, test_costs, parameters = train_and_test(parameters, epoch, n_User, n_Item, R, R_test)\n",
    "\n",
    "plt.ylim([0.90,1.5])\n",
    "plt.plot(costs, 'b', label='Train')\n",
    "plt.plot(test_costs, 'r', label='Test')\n",
    "plt.xlabel('epoch')\n",
    "plt.ylabel('RMSE')\n",
    "plt.title('PMF')\n",
    "plt.minorticks_on()\n",
    "plt.grid(b=True, which = 'major', color = '#666666', linestyle = '-', alpha = 0.2)\n",
    "plt.legend()\n",
    "\n",
    "plt.show()\n",
    "print('----------')\n",
    "print(parameters['U'])\n",
    "print('----------')\n",
    "print(parameters['V'])"
   ]
  }
 ],
 "metadata": {
  "kernelspec": {
   "display_name": "Python 3",
   "language": "python",
   "name": "python3"
  },
  "language_info": {
   "codemirror_mode": {
    "name": "ipython",
    "version": 3
   },
   "file_extension": ".py",
   "mimetype": "text/x-python",
   "name": "python",
   "nbconvert_exporter": "python",
   "pygments_lexer": "ipython3",
   "version": "3.7.4"
  }
 },
 "nbformat": 4,
 "nbformat_minor": 2
}
